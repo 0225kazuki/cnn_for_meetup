{
 "cells": [
  {
   "cell_type": "markdown",
   "metadata": {},
   "source": [
    "# Kerasによるニューラルネット実装例(RGB)"
   ]
  },
  {
   "cell_type": "code",
   "execution_count": 248,
   "metadata": {
    "collapsed": true
   },
   "outputs": [],
   "source": [
    "import keras\n",
    "from keras.datasets import mnist\n",
    "from keras.models import Sequential\n",
    "from keras.layers import Dense, Dropout\n",
    "from keras.optimizers import RMSprop\n",
    "from keras.datasets import cifar10\n",
    "from PIL import Image\n",
    "import numpy as np\n",
    "\n",
    "# データセット抽出用の関数\n",
    "def select_data(label_list):\n",
    "    # row data load\n",
    "    (x_train, y_train), (x_test, y_test) = cifar10.load_data()\n",
    "    \n",
    "    # label name : label num\n",
    "    label_name_dict = {'airplane': 0, 'automobile': 1, 'bird': 2, 'cat': 3, 'deer': 4, 'dog': 5, 'frog': 6, 'horse': 7, 'ship': 8, 'truck': 9}\n",
    "      \n",
    "    # データ抽出 & ラベルデータ成形\n",
    "    X_train = []\n",
    "    class_num = len(label_list)\n",
    "    for e,i in enumerate(label_list):\n",
    "        label_num = label_name_dict[i]\n",
    "        one_hot_array = keras.utils.to_categorical(e, class_num)\n",
    "        \n",
    "        if X_train == []:\n",
    "            X_train = x_train[np.where(y_train==label_num)[0]]\n",
    "            X_test = x_test[np.where(y_test==label_num)[0]]\n",
    "            Y_train = np.tile(one_hot_array,(len(y_train[np.where(y_train==label_num)[0]]),1))\n",
    "            Y_test = np.tile(one_hot_array, (len(y_test[np.where(y_test==label_num)[0]]),1))\n",
    "        else:\n",
    "            X_train = np.append(X_train,x_train[np.where(y_train==label_num)[0]],axis=0)\n",
    "            X_test = np.append(X_test,x_test[np.where(y_test==label_num)[0]],axis=0)\n",
    "            Y_train = np.append(Y_train,np.tile(one_hot_array,(len(y_train[np.where(y_train==label_num)[0]]),1)),axis=0)\n",
    "            Y_test = np.append(Y_test,np.tile(one_hot_array,(len(y_test[np.where(y_test==label_num)[0]]),1)),axis=0)\n",
    "            \n",
    "    return ((X_train,Y_train),(X_test, Y_test))"
   ]
  },
  {
   "cell_type": "code",
   "execution_count": 249,
   "metadata": {
    "collapsed": true
   },
   "outputs": [],
   "source": [
    "# 自分で設定するパラメータ\n",
    "batch_size = 128\n",
    "select_label = ['airplane','automobile','bird']\n",
    "num_classes = len(select_label)\n",
    "epochs = 20"
   ]
  },
  {
   "cell_type": "code",
   "execution_count": 250,
   "metadata": {},
   "outputs": [
    {
     "name": "stderr",
     "output_type": "stream",
     "text": [
      "/Users/kazuki/.pyenv/versions/3.6.1/lib/python3.6/site-packages/ipykernel_launcher.py:25: DeprecationWarning: elementwise == comparison failed; this will raise an error in the future.\n"
     ]
    },
    {
     "name": "stdout",
     "output_type": "stream",
     "text": [
      "(15000, 3072) train samples\n",
      "(3000, 3072) test samples\n"
     ]
    }
   ],
   "source": [
    "# データ抽出\n",
    "((x_train,y_train),(x_test, y_test)) = select_data(['airplane','automobile','bird'])\n",
    "\n",
    "# データ整形\n",
    "x_train = x_train.reshape(x_train.shape[0],32*32*3)\n",
    "x_test = x_test.reshape(x_test.shape[0],32*32*3)\n",
    "\n",
    "# 正規化\n",
    "x_train = x_train.astype('float32')\n",
    "x_test = x_test.astype('float32')\n",
    "x_train /= 255\n",
    "x_test /= 255\n",
    "\n",
    "# データシェイプの確認\n",
    "print(x_train.shape, 'train samples')\n",
    "print(x_test.shape, 'test samples')"
   ]
  },
  {
   "cell_type": "code",
   "execution_count": 251,
   "metadata": {
    "scrolled": false
   },
   "outputs": [
    {
     "name": "stdout",
     "output_type": "stream",
     "text": [
      "_________________________________________________________________\n",
      "Layer (type)                 Output Shape              Param #   \n",
      "=================================================================\n",
      "dense_76 (Dense)             (None, 512)               1573376   \n",
      "_________________________________________________________________\n",
      "dropout_51 (Dropout)         (None, 512)               0         \n",
      "_________________________________________________________________\n",
      "dense_77 (Dense)             (None, 512)               262656    \n",
      "_________________________________________________________________\n",
      "dropout_52 (Dropout)         (None, 512)               0         \n",
      "_________________________________________________________________\n",
      "dense_78 (Dense)             (None, 3)                 1539      \n",
      "=================================================================\n",
      "Total params: 1,837,571\n",
      "Trainable params: 1,837,571\n",
      "Non-trainable params: 0\n",
      "_________________________________________________________________\n",
      "Train on 15000 samples, validate on 3000 samples\n",
      "Epoch 1/20\n",
      "15000/15000 [==============================] - 8s - loss: 0.9825 - acc: 0.5738 - val_loss: 0.7764 - val_acc: 0.6590\n",
      "Epoch 2/20\n",
      "15000/15000 [==============================] - 7s - loss: 0.7601 - acc: 0.6827 - val_loss: 0.7052 - val_acc: 0.7173\n",
      "Epoch 3/20\n",
      "15000/15000 [==============================] - 6s - loss: 0.7181 - acc: 0.7013 - val_loss: 0.6595 - val_acc: 0.7253\n",
      "Epoch 4/20\n",
      "15000/15000 [==============================] - 7s - loss: 0.6899 - acc: 0.7193 - val_loss: 0.6314 - val_acc: 0.7380\n",
      "Epoch 5/20\n",
      "15000/15000 [==============================] - 7s - loss: 0.6687 - acc: 0.7252 - val_loss: 0.6119 - val_acc: 0.7540\n",
      "Epoch 6/20\n",
      "15000/15000 [==============================] - 6s - loss: 0.6609 - acc: 0.7319 - val_loss: 0.6114 - val_acc: 0.7480\n",
      "Epoch 7/20\n",
      "15000/15000 [==============================] - 6s - loss: 0.6571 - acc: 0.7330 - val_loss: 0.6071 - val_acc: 0.7617\n",
      "Epoch 8/20\n",
      "15000/15000 [==============================] - 7s - loss: 0.6488 - acc: 0.7325 - val_loss: 0.6094 - val_acc: 0.7557\n",
      "Epoch 9/20\n",
      "15000/15000 [==============================] - 7s - loss: 0.6386 - acc: 0.7379 - val_loss: 0.6033 - val_acc: 0.7527\n",
      "Epoch 10/20\n",
      "15000/15000 [==============================] - 7s - loss: 0.6372 - acc: 0.7390 - val_loss: 0.6209 - val_acc: 0.7463\n",
      "Epoch 11/20\n",
      "15000/15000 [==============================] - 7s - loss: 0.6388 - acc: 0.7369 - val_loss: 0.6321 - val_acc: 0.7607\n",
      "Epoch 12/20\n",
      "15000/15000 [==============================] - 6s - loss: 0.6232 - acc: 0.7469 - val_loss: 0.5967 - val_acc: 0.7597\n",
      "Epoch 13/20\n",
      "15000/15000 [==============================] - 7s - loss: 0.6043 - acc: 0.7565 - val_loss: 0.5857 - val_acc: 0.7680\n",
      "Epoch 14/20\n",
      "15000/15000 [==============================] - 7s - loss: 0.5822 - acc: 0.7671 - val_loss: 0.5616 - val_acc: 0.7797\n",
      "Epoch 15/20\n",
      "15000/15000 [==============================] - 7s - loss: 0.5888 - acc: 0.7581 - val_loss: 0.6161 - val_acc: 0.7440\n",
      "Epoch 16/20\n",
      "15000/15000 [==============================] - 6s - loss: 0.5923 - acc: 0.7569 - val_loss: 0.5664 - val_acc: 0.7787\n",
      "Epoch 17/20\n",
      "15000/15000 [==============================] - 6s - loss: 0.5647 - acc: 0.7721 - val_loss: 0.5601 - val_acc: 0.7620\n",
      "Epoch 18/20\n",
      "15000/15000 [==============================] - 6s - loss: 0.5577 - acc: 0.7743 - val_loss: 0.5732 - val_acc: 0.7750\n",
      "Epoch 19/20\n",
      "15000/15000 [==============================] - 7s - loss: 0.5581 - acc: 0.7755 - val_loss: 0.5590 - val_acc: 0.7797\n",
      "Epoch 20/20\n",
      "15000/15000 [==============================] - 7s - loss: 0.5518 - acc: 0.7794 - val_loss: 0.5779 - val_acc: 0.7677\n",
      "2944/3000 [============================>.] - ETA: 0sTest loss: 0.577856922785\n",
      "Test accuracy: 0.767666666826\n"
     ]
    }
   ],
   "source": [
    "# モデル構築\n",
    "model = Sequential()\n",
    "\n",
    "# 最初の隠れ層(入力1024*3-> 出力512)\n",
    "model.add(Dense(512, activation='relu', input_shape=(1024*3,)))\n",
    "model.add(Dropout(0.2))\n",
    "\n",
    "# 隠れ層(入力512 -> 出力512)\n",
    "## 隠れ層は追加可能\n",
    "model.add(Dense(512, activation='relu'))\n",
    "model.add(Dropout(0.2))\n",
    "\n",
    "# 出力層(入力512 -> 出力:クラス数)\n",
    "model.add(Dense(num_classes, activation='softmax'))\n",
    "\n",
    "# モデル概要表示\n",
    "model.summary()\n",
    "\n",
    "# モデルのコンパイル\n",
    "model.compile(loss='categorical_crossentropy',\n",
    "#               optimizer=RMSprop(),\n",
    "              optimizer='adam',\n",
    "              metrics=['accuracy'])\n",
    "\n",
    "# フィッティング(学習)\n",
    "history = model.fit(x_train, y_train,\n",
    "                    batch_size=batch_size,\n",
    "                    epochs=epochs,\n",
    "                    verbose=1,\n",
    "                    validation_data=(x_test, y_test))\n",
    "\n",
    "# スコア計算・表示\n",
    "score = model.evaluate(x_test, y_test, verbose=1)\n",
    "print('Test loss:', score[0])\n",
    "print('Test accuracy:', score[1])"
   ]
  },
  {
   "cell_type": "code",
   "execution_count": 235,
   "metadata": {},
   "outputs": [
    {
     "data": {
      "image/png": "[encoded data removed]",
      "text/plain": [
       "<matplotlib.figure.Figure at 0x162fc4668>"
      ]
     },
     "metadata": {},
     "output_type": "display_data"
    },
    {
     "data": {
      "text/plain": [
       "<matplotlib.figure.Figure at 0x162fff630>"
      ]
     },
     "metadata": {},
     "output_type": "display_data"
    }
   ],
   "source": [
    "# 学習の様子をプロット\n",
    "loss = history.history['loss']\n",
    "val_loss = history.history['val_loss']\n",
    "\n",
    "acc = history.history['acc']\n",
    "val_acc = history.history['val_acc']\n",
    "\n",
    "plt.figure(figsize=(10,10))\n",
    "plt.subplot(2,1,1)\n",
    "plt.title('Loss')\n",
    "epochs = len(loss)\n",
    "plt.plot(range(epochs), loss, marker='.', label='loss')\n",
    "plt.plot(range(epochs), val_loss, marker='.', label='val_loss')\n",
    "plt.legend(loc='best')\n",
    "plt.grid()\n",
    "plt.xlabel('epoch')\n",
    "plt.ylabel('acc')\n",
    "\n",
    "plt.subplot(2,1,2)\n",
    "plt.title('Accuracy')\n",
    "plt.plot(range(epochs), acc, marker='.', label='acc')\n",
    "plt.plot(range(epochs), val_acc, marker='.', label='val_acc')\n",
    "plt.legend(loc='best')\n",
    "plt.grid()\n",
    "plt.xlabel('epoch')\n",
    "plt.ylabel('acc')\n",
    "plt.show()\n",
    "\n",
    "# plt.savefig('rms_cifar3_50epochs.png')"
   ]
  },
  {
   "cell_type": "code",
   "execution_count": 7,
   "metadata": {
    "collapsed": true
   },
   "outputs": [],
   "source": [
    "# 学習モデルの保存\n",
    "model.save(\"trained_data\")"
   ]
  },
  {
   "cell_type": "markdown",
   "metadata": {},
   "source": [
    "# モデルのテスト"
   ]
  },
  {
   "cell_type": "markdown",
   "metadata": {},
   "source": [
    "## 画像読み込み"
   ]
  },
  {
   "cell_type": "code",
   "execution_count": 246,
   "metadata": {},
   "outputs": [
    {
     "name": "stdout",
     "output_type": "stream",
     "text": [
      "(32, 32, 3)\n"
     ]
    },
    {
     "data": {
      "text/plain": [
       "<matplotlib.image.AxesImage at 0x161712048>"
      ]
     },
     "execution_count": 246,
     "metadata": {},
     "output_type": "execute_result"
    },
    {
     "data": {
      "image/png": "[encoded data removed]",
      "text/plain": [
       "<matplotlib.figure.Figure at 0x1522d64e0>"
      ]
     },
     "metadata": {},
     "output_type": "display_data"
    }
   ],
   "source": [
    "from PIL import Image\n",
    "import matplotlib.pyplot as plt\n",
    "import numpy as np\n",
    "\n",
    "#Jupyterでインライン表示するための宣言\n",
    "%matplotlib inline \n",
    "\n",
    "(xx, yy), (x, y) = cifar10.load_data()\n",
    "fig = plt.figure(figsize=(8,8))\n",
    "\n",
    "#画像の読み込み\n",
    "org_img = Image.open(\"./ogp_toyota_recom_02.jpg\")\n",
    "\n",
    "#解像度変更\n",
    "gray_img = org_img.resize((32,32))\n",
    "# gray_img = org_img\n",
    "\n",
    "#画像をarrayに変換\n",
    "im_list = np.array(gray_img, 'f')\n",
    "print(im_list.shape)\n",
    "\n",
    "#正規化\n",
    "im_list = im_list/255\n",
    "\n",
    "#画像表示\n",
    "plt.imshow(im_list)"
   ]
  },
  {
   "cell_type": "markdown",
   "metadata": {},
   "source": [
    "## 読み込んだ画像の判別"
   ]
  },
  {
   "cell_type": "code",
   "execution_count": 252,
   "metadata": {
    "scrolled": true
   },
   "outputs": [
    {
     "name": "stdout",
     "output_type": "stream",
     "text": [
      "(32, 32, 3)\n",
      "[[ 0.09417077  0.89055675  0.01527251]]\n",
      "\n",
      "\n",
      "Result: automobile\n"
     ]
    }
   ],
   "source": [
    "print(im_list.shape)\n",
    "test = im_list.reshape(1,1024*3)\n",
    "\n",
    "# 判別値の確率\n",
    "print(model.predict(test))\n",
    "print('\\n')\n",
    "\n",
    "#判別結果\n",
    "print(\"Result:\",select_label[np.argmax(model.predict(test)[0])])"
   ]
  }
 ],
 "metadata": {
  "kernelspec": {
   "display_name": "Python 3",
   "language": "python",
   "name": "python3"
  },
  "language_info": {
   "codemirror_mode": {
    "name": "ipython",
    "version": 3
   },
   "file_extension": ".py",
   "mimetype": "text/x-python",
   "name": "python",
   "nbconvert_exporter": "python",
   "pygments_lexer": "ipython3",
   "version": "3.6.1"
  }
 },
 "nbformat": 4,
 "nbformat_minor": 2
}
