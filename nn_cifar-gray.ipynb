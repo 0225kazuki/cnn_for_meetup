{
 "cells": [
  {
   "cell_type": "markdown",
   "metadata": {},
   "source": [
    "# Kerasによるニューラルネット実装例(Gray)"
   ]
  },
  {
   "cell_type": "code",
   "execution_count": null,
   "metadata": {},
   "outputs": [],
   "source": [
    "import keras\n",
    "from keras.models import Sequential\n",
    "from keras.layers import Dense, Dropout\n",
    "from keras.optimizers import RMSprop\n",
    "from keras.datasets import cifar100\n",
    "from PIL import Image\n",
    "import matplotlib.pyplot as plt\n",
    "import numpy as np\n",
    "import collections\n",
    "import func\n",
    "#Jupyterでインライン表示するための宣言\n",
    "%matplotlib inline "
   ]
  },
  {
   "cell_type": "code",
   "execution_count": null,
   "metadata": {
    "collapsed": true
   },
   "outputs": [],
   "source": [
    "# 自分で設定するパラメータ\n",
    "batch_size = 500\n",
    "select_label = ['train','chair','tank','dolphin']\n",
    "num_classes = len(select_label)\n",
    "epochs = 50"
   ]
  },
  {
   "cell_type": "code",
   "execution_count": null,
   "metadata": {},
   "outputs": [],
   "source": [
    "# データ抽出\n",
    "((x_train,y_train),(x_test, y_test)) = func.select_data(select_label)\n",
    "\n",
    "# データ整形\n",
    "## x_trainをグレースケールに変換する\n",
    "x_train =np.array([np.asarray(Image.fromarray(np.uint8(i)).convert('L')) for i in x_train])\n",
    "## x_trainを行列からベクトルにする\n",
    "x_train = x_train.reshape(x_train.shape[0],32*32)\n",
    "\n",
    "## x_testをグレースケールに変換する\n",
    "x_test =np.array([np.asarray(Image.fromarray(np.uint8(i)).convert('L')) for i in x_test])\n",
    "## x_testを行列からベクトルにする\n",
    "x_test = x_test.reshape(x_test.shape[0],32*32)\n",
    "\n",
    "## x_train, x_testを正規化する\n",
    "x_train = x_train.astype('float32')\n",
    "x_test = x_test.astype('float32')\n",
    "x_train /= 255\n",
    "x_test /= 255\n",
    "\n",
    "## データシェイプの確認\n",
    "print(x_train.shape, 'train samples')\n",
    "print(x_test.shape, 'test samples')"
   ]
  },
  {
   "cell_type": "code",
   "execution_count": null,
   "metadata": {
    "collapsed": true
   },
   "outputs": [],
   "source": [
    "# データセットの確認\n",
    "\n",
    "sample_dict = func.sample_dict()\n",
    "print(list(sample_dict.keys()))\n",
    "\n",
    "(xtrain_samples,ytrain_samples),(xtest_samples,ytest_samples) = func.select_data(select_label)\n",
    "\n",
    "for e,l in enumerate(select_label):\n",
    "    \n",
    "    img = xtrain_samples[500*e]\n",
    "\n",
    "    fig = plt.figure(figsize=(4,4))\n",
    "    \n",
    "    plt.title(l)\n",
    "\n",
    "    #画像表示\n",
    "    plt.imshow(img)"
   ]
  },
  {
   "cell_type": "code",
   "execution_count": null,
   "metadata": {
    "scrolled": false
   },
   "outputs": [],
   "source": [
    "# モデル構築\n",
    "model = Sequential()\n",
    "\n",
    "# 最初の隠れ層(入力1024-> 出力512)\n",
    "model.add(Dense(200, activation='relu', input_shape=(1024,)))\n",
    "model.add(Dropout(0.2))\n",
    "\n",
    "# 隠れ層(入力512 -> 出力512)\n",
    "## 隠れ層は追加可能\n",
    "model.add(Dense(512, activation='relu'))\n",
    "model.add(Dropout(0.2))\n",
    "\n",
    "# 出力層(入力512 -> 出力:クラス数)\n",
    "model.add(Dense(num_classes, activation='softmax'))\n",
    "\n",
    "# モデル概要表示\n",
    "model.summary()\n",
    "\n",
    "# モデルのコンパイル\n",
    "model.compile(loss='categorical_crossentropy',\n",
    "              optimizer='adam',\n",
    "              metrics=['accuracy'])\n",
    "\n",
    "# フィッティング(学習)\n",
    "history = model.fit(x_train, y_train,\n",
    "                    batch_size=batch_size,\n",
    "                    epochs=epochs,\n",
    "                    verbose=1,\n",
    "                    validation_data=(x_test, y_test))\n",
    "\n",
    "# スコア計算・表示\n",
    "score = model.evaluate(x_test, y_test, verbose=1)\n",
    "print('Test loss:', score[0])\n",
    "print('Test accuracy:', score[1])"
   ]
  },
  {
   "cell_type": "code",
   "execution_count": null,
   "metadata": {},
   "outputs": [],
   "source": [
    "# 学習結果の表示\n",
    "res = [np.argmax(i) for i in model.predict(x_test)]\n",
    "plt.figure(figsize=(15,5))\n",
    "for i in range(len(select_label)):\n",
    "    plt.subplot(1,num_classes,i+1)\n",
    "    plt.title(select_label[i])\n",
    "    res_counter = collections.Counter(res[i*100:(i+1)*100])\n",
    "    plt.bar(list(res_counter.keys()),res_counter.values())\n",
    "    plt.xticks(np.arange(num_classes),select_label)\n",
    "plt.show()"
   ]
  },
  {
   "cell_type": "code",
   "execution_count": null,
   "metadata": {},
   "outputs": [],
   "source": [
    "import matplotlib.pyplot as plt\n",
    "# plot results\n",
    "loss = history.history['loss']\n",
    "val_loss = history.history['val_loss']\n",
    "\n",
    "acc = history.history['acc']\n",
    "val_acc = history.history['val_acc']\n",
    "\n",
    "plt.figure(figsize=(10,10))\n",
    "plt.subplot(2,1,1)\n",
    "plt.title('Loss')\n",
    "epochs = len(loss)\n",
    "plt.plot(range(epochs), loss, marker='.', label='loss')\n",
    "plt.plot(range(epochs), val_loss, marker='.', label='val_loss')\n",
    "plt.legend(loc='best')\n",
    "plt.grid()\n",
    "plt.xlabel('epoch')\n",
    "plt.ylabel('acc')\n",
    "\n",
    "plt.subplot(2,1,2)\n",
    "plt.title('Accuracy')\n",
    "plt.plot(range(epochs), acc, marker='.', label='acc')\n",
    "plt.plot(range(epochs), val_acc, marker='.', label='val_acc')\n",
    "plt.legend(loc='best')\n",
    "plt.grid()\n",
    "plt.xlabel('epoch')\n",
    "plt.ylabel('acc')\n",
    "plt.show()\n",
    "\n",
    "plt.savefig('rms_cifar3_50epochs.png')"
   ]
  },
  {
   "cell_type": "code",
   "execution_count": null,
   "metadata": {
    "collapsed": true
   },
   "outputs": [],
   "source": [
    "# 学習モデルの保存\n",
    "model.save(\"cifar100_trained.h5\")"
   ]
  },
  {
   "cell_type": "markdown",
   "metadata": {},
   "source": [
    "# モデルのテスト"
   ]
  },
  {
   "cell_type": "markdown",
   "metadata": {},
   "source": [
    "## 画像読み込み"
   ]
  },
  {
   "cell_type": "code",
   "execution_count": null,
   "metadata": {},
   "outputs": [],
   "source": [
    "fig = plt.figure(figsize=(8,8))\n",
    "\n",
    "#画像の読み込み\n",
    "org_img = Image.open(\"./tank1.jpg\")\n",
    "\n",
    "#解像度変更\n",
    "gray_img = org_img.resize((32,32))\n",
    "\n",
    "# 画像を白黒に変換\n",
    "gray_img = gray_img.convert('L')\n",
    "\n",
    "#画像をarrayに変換\n",
    "im_list = np.array(gray_img, 'f')\n",
    "print(im_list.shape)\n",
    "\n",
    "#正規化\n",
    "im_list = im_list/255\n",
    "\n",
    "#画像表示\n",
    "plt.imshow(im_list,cmap=plt.get_cmap('gray'))"
   ]
  },
  {
   "cell_type": "markdown",
   "metadata": {},
   "source": [
    "## 読み込んだ画像の判別"
   ]
  },
  {
   "cell_type": "code",
   "execution_count": null,
   "metadata": {
    "scrolled": true
   },
   "outputs": [],
   "source": [
    "# 保存したモデルを読み込む場合は実行\n",
    "# model = keras.models.load_model('./mnist_data.h5')\n",
    "\n",
    "test = im_list.reshape(1,1024)\n",
    "\n",
    "# 判別値の確率\n",
    "print(model.predict(test))\n",
    "print('\\n')\n",
    "\n",
    "#判別結果\n",
    "print(\"Result:\",select_label[np.argmax(model.predict(test)[0])])"
   ]
  }
 ],
 "metadata": {
  "kernelspec": {
   "display_name": "Python 3",
   "language": "python",
   "name": "python3"
  },
  "language_info": {
   "codemirror_mode": {
    "name": "ipython",
    "version": 3
   },
   "file_extension": ".py",
   "mimetype": "text/x-python",
   "name": "python",
   "nbconvert_exporter": "python",
   "pygments_lexer": "ipython3",
   "version": "3.6.1"
  }
 },
 "nbformat": 4,
 "nbformat_minor": 2
}
