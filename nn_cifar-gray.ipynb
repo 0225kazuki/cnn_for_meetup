{
 "cells": [
  {
   "cell_type": "markdown",
   "metadata": {},
   "source": [
    "# Kerasによるニューラルネット実装例(Gray)"
   ]
  },
  {
   "cell_type": "code",
   "execution_count": 33,
   "metadata": {
    "collapsed": true
   },
   "outputs": [],
   "source": [
    "import keras\n",
    "from keras.datasets import mnist\n",
    "from keras.models import Sequential\n",
    "from keras.layers import Dense, Dropout\n",
    "from keras.optimizers import RMSprop\n",
    "from keras.datasets import cifar10\n",
    "from PIL import Image\n",
    "import matplotlib.pyplot as plt\n",
    "import numpy as np\n",
    "\n",
    "def unpickle(file):\n",
    "    import pickle\n",
    "    with open(file, 'rb') as fo:\n",
    "        dict = pickle.load(fo, encoding='bytes')\n",
    "    return dict\n",
    "\n",
    "# データセット抽出用の関数\n",
    "def select_data(label_list):\n",
    "    # row data load\n",
    "    (x_train, y_train), (x_test, y_test) = cifar10.load_data()\n",
    "    \n",
    "    # label name : label num\n",
    "    label_name_dict = {'airplane': 0, 'automobile': 1, 'bird': 2, 'cat': 3, 'deer': 4, 'dog': 5, 'frog': 6, 'horse': 7, 'ship': 8, 'truck': 9}\n",
    "      \n",
    "    # データ抽出 & ラベルデータ成形\n",
    "    X_train = []\n",
    "    class_num = len(label_list)\n",
    "    for e,i in enumerate(label_list):\n",
    "        label_num = label_name_dict[i]\n",
    "        one_hot_array = keras.utils.to_categorical(e, class_num)\n",
    "        \n",
    "        if X_train == []:\n",
    "            X_train = x_train[np.where(y_train==label_num)[0]]\n",
    "            X_test = x_test[np.where(y_test==label_num)[0]]\n",
    "            Y_train = np.tile(one_hot_array,(len(y_train[np.where(y_train==label_num)[0]]),1))\n",
    "            Y_test = np.tile(one_hot_array, (len(y_test[np.where(y_test==label_num)[0]]),1))\n",
    "        else:\n",
    "            X_train = np.append(X_train,x_train[np.where(y_train==label_num)[0]],axis=0)\n",
    "            X_test = np.append(X_test,x_test[np.where(y_test==label_num)[0]],axis=0)\n",
    "            Y_train = np.append(Y_train,np.tile(one_hot_array,(len(y_train[np.where(y_train==label_num)[0]]),1)),axis=0)\n",
    "            Y_test = np.append(Y_test,np.tile(one_hot_array,(len(y_test[np.where(y_test==label_num)[0]]),1)),axis=0)\n",
    "            \n",
    "    return ((X_train,Y_train),(X_test, Y_test))"
   ]
  },
  {
   "cell_type": "code",
   "execution_count": 29,
   "metadata": {
    "collapsed": true
   },
   "outputs": [],
   "source": [
    "# 自分で設定するパラメータ\n",
    "batch_size = 128\n",
    "select_label = ['airplane','automobile','bird']\n",
    "num_classes = len(select_label)\n",
    "epochs = 50"
   ]
  },
  {
   "cell_type": "code",
   "execution_count": 30,
   "metadata": {},
   "outputs": [
    {
     "name": "stderr",
     "output_type": "stream",
     "text": [
      "/Users/kazuki/.pyenv/versions/3.6.1/lib/python3.6/site-packages/ipykernel_launcher.py:15: DeprecationWarning: elementwise == comparison failed; this will raise an error in the future.\n",
      "  from ipykernel import kernelapp as app\n"
     ]
    },
    {
     "name": "stdout",
     "output_type": "stream",
     "text": [
      "(15000, 1024) train samples\n",
      "(3000, 1024) test samples\n"
     ]
    }
   ],
   "source": [
    "# データ抽出\n",
    "((x_train,y_train),(x_test, y_test)) = select_data(['airplane','automobile','bird'])\n",
    "\n",
    "# データ整形\n",
    "## x_trainをグレースケールに変換する\n",
    "x_train =np.array([np.asarray(Image.fromarray(np.uint8(i)).convert('L')) for i in x_train])\n",
    "## x_trainを行列からベクトルにする\n",
    "x_train = x_train.reshape(x_train.shape[0],32*32)\n",
    "\n",
    "## x_testをグレースケールに変換する\n",
    "x_test =np.array([np.asarray(Image.fromarray(np.uint8(i)).convert('L')) for i in x_test])\n",
    "## x_testを行列からベクトルにする\n",
    "x_test = x_test.reshape(x_test.shape[0],32*32)\n",
    "\n",
    "## x_train, x_testを正規化する\n",
    "x_train = x_train.astype('float32')\n",
    "x_test = x_test.astype('float32')\n",
    "x_train /= 255\n",
    "x_test /= 255\n",
    "\n",
    "## データシェイプの確認\n",
    "print(x_train.shape, 'train samples')\n",
    "print(x_test.shape, 'test samples')"
   ]
  },
  {
   "cell_type": "code",
   "execution_count": 8,
   "metadata": {
    "scrolled": false
   },
   "outputs": [
    {
     "name": "stderr",
     "output_type": "stream",
     "text": [
      "/Users/kazuki/.pyenv/versions/3.6.1/lib/python3.6/site-packages/ipykernel_launcher.py:15: DeprecationWarning: elementwise == comparison failed; this will raise an error in the future.\n",
      "  from ipykernel import kernelapp as app\n"
     ]
    },
    {
     "name": "stdout",
     "output_type": "stream",
     "text": [
      "(15000, 1024) train samples\n",
      "(3000, 1024) test samples\n",
      "_________________________________________________________________\n",
      "Layer (type)                 Output Shape              Param #   \n",
      "=================================================================\n",
      "dense_1 (Dense)              (None, 512)               524800    \n",
      "_________________________________________________________________\n",
      "dropout_1 (Dropout)          (None, 512)               0         \n",
      "_________________________________________________________________\n",
      "dense_2 (Dense)              (None, 512)               262656    \n",
      "_________________________________________________________________\n",
      "dropout_2 (Dropout)          (None, 512)               0         \n",
      "_________________________________________________________________\n",
      "dense_3 (Dense)              (None, 3)                 1539      \n",
      "=================================================================\n",
      "Total params: 788,995\n",
      "Trainable params: 788,995\n",
      "Non-trainable params: 0\n",
      "_________________________________________________________________\n",
      "Train on 15000 samples, validate on 3000 samples\n",
      "Epoch 1/50\n",
      "15000/15000 [==============================] - 3s - loss: 0.9853 - acc: 0.5045 - val_loss: 0.8569 - val_acc: 0.5913\n",
      "Epoch 2/50\n",
      "15000/15000 [==============================] - 2s - loss: 0.8565 - acc: 0.5947 - val_loss: 0.8346 - val_acc: 0.6007\n",
      "Epoch 3/50\n",
      "15000/15000 [==============================] - 3s - loss: 0.8255 - acc: 0.6151 - val_loss: 0.8449 - val_acc: 0.6010\n",
      "Epoch 4/50\n",
      "15000/15000 [==============================] - 3s - loss: 0.8018 - acc: 0.6317 - val_loss: 0.8310 - val_acc: 0.6113\n",
      "Epoch 5/50\n",
      "15000/15000 [==============================] - 3s - loss: 0.7898 - acc: 0.6371 - val_loss: 0.7545 - val_acc: 0.6517\n",
      "Epoch 6/50\n",
      "15000/15000 [==============================] - 3s - loss: 0.7677 - acc: 0.6531 - val_loss: 0.7232 - val_acc: 0.6837\n",
      "Epoch 7/50\n",
      "15000/15000 [==============================] - 2s - loss: 0.7640 - acc: 0.6512 - val_loss: 0.7373 - val_acc: 0.6780\n",
      "Epoch 8/50\n",
      "15000/15000 [==============================] - 2s - loss: 0.7590 - acc: 0.6561 - val_loss: 0.7427 - val_acc: 0.6813\n",
      "Epoch 9/50\n",
      "15000/15000 [==============================] - 3s - loss: 0.7348 - acc: 0.6718 - val_loss: 0.7259 - val_acc: 0.6817\n",
      "Epoch 10/50\n",
      "15000/15000 [==============================] - 3s - loss: 0.7301 - acc: 0.6727 - val_loss: 0.7242 - val_acc: 0.6843\n",
      "Epoch 11/50\n",
      "15000/15000 [==============================] - 2s - loss: 0.7193 - acc: 0.6779 - val_loss: 0.7512 - val_acc: 0.6440\n",
      "Epoch 12/50\n",
      "15000/15000 [==============================] - 2s - loss: 0.7127 - acc: 0.6838 - val_loss: 0.7354 - val_acc: 0.6637\n",
      "Epoch 13/50\n",
      "15000/15000 [==============================] - 2s - loss: 0.6972 - acc: 0.6926 - val_loss: 0.7342 - val_acc: 0.6703\n",
      "Epoch 14/50\n",
      "15000/15000 [==============================] - 2s - loss: 0.6970 - acc: 0.6901 - val_loss: 0.7846 - val_acc: 0.6333\n",
      "Epoch 15/50\n",
      "15000/15000 [==============================] - 3s - loss: 0.6857 - acc: 0.6947 - val_loss: 0.6898 - val_acc: 0.6940\n",
      "Epoch 16/50\n",
      "15000/15000 [==============================] - 3s - loss: 0.6892 - acc: 0.6951 - val_loss: 0.7445 - val_acc: 0.6577\n",
      "Epoch 17/50\n",
      "15000/15000 [==============================] - 3s - loss: 0.6842 - acc: 0.6972 - val_loss: 0.6734 - val_acc: 0.7090\n",
      "Epoch 18/50\n",
      "15000/15000 [==============================] - 3s - loss: 0.6758 - acc: 0.7049 - val_loss: 0.6928 - val_acc: 0.6953\n",
      "Epoch 19/50\n",
      "15000/15000 [==============================] - 3s - loss: 0.6735 - acc: 0.7031 - val_loss: 0.7186 - val_acc: 0.6700\n",
      "Epoch 20/50\n",
      "15000/15000 [==============================] - 3s - loss: 0.6606 - acc: 0.7089 - val_loss: 0.7126 - val_acc: 0.6763\n",
      "Epoch 21/50\n",
      "15000/15000 [==============================] - 3s - loss: 0.6610 - acc: 0.7078 - val_loss: 0.7074 - val_acc: 0.6820\n",
      "Epoch 22/50\n",
      "15000/15000 [==============================] - 3s - loss: 0.6570 - acc: 0.7129 - val_loss: 0.6824 - val_acc: 0.7080\n",
      "Epoch 23/50\n",
      "15000/15000 [==============================] - 3s - loss: 0.6552 - acc: 0.7144 - val_loss: 0.6978 - val_acc: 0.6950\n",
      "Epoch 24/50\n",
      "15000/15000 [==============================] - 3s - loss: 0.6420 - acc: 0.7199 - val_loss: 0.6586 - val_acc: 0.7107\n",
      "Epoch 25/50\n",
      "15000/15000 [==============================] - 2s - loss: 0.6388 - acc: 0.7205 - val_loss: 0.6467 - val_acc: 0.7270\n",
      "Epoch 26/50\n",
      "15000/15000 [==============================] - 3s - loss: 0.6352 - acc: 0.7242 - val_loss: 0.7184 - val_acc: 0.6753\n",
      "Epoch 27/50\n",
      "15000/15000 [==============================] - 2s - loss: 0.6471 - acc: 0.7189 - val_loss: 0.6890 - val_acc: 0.7007\n",
      "Epoch 28/50\n",
      "15000/15000 [==============================] - 2s - loss: 0.6359 - acc: 0.7255 - val_loss: 0.6586 - val_acc: 0.7213\n",
      "Epoch 29/50\n",
      "15000/15000 [==============================] - 3s - loss: 0.6280 - acc: 0.7263 - val_loss: 0.6948 - val_acc: 0.6857\n",
      "Epoch 30/50\n",
      "15000/15000 [==============================] - 3s - loss: 0.6228 - acc: 0.7289 - val_loss: 0.6711 - val_acc: 0.7133\n",
      "Epoch 31/50\n",
      "15000/15000 [==============================] - 3s - loss: 0.6149 - acc: 0.7383 - val_loss: 0.6692 - val_acc: 0.7077\n",
      "Epoch 32/50\n",
      "15000/15000 [==============================] - 3s - loss: 0.6137 - acc: 0.7346 - val_loss: 0.6630 - val_acc: 0.7160\n",
      "Epoch 33/50\n",
      "15000/15000 [==============================] - 3s - loss: 0.6154 - acc: 0.7293 - val_loss: 0.6786 - val_acc: 0.7157\n",
      "Epoch 34/50\n",
      "15000/15000 [==============================] - 3s - loss: 0.6172 - acc: 0.7291 - val_loss: 0.6610 - val_acc: 0.7083\n",
      "Epoch 35/50\n",
      "15000/15000 [==============================] - 3s - loss: 0.6128 - acc: 0.7360 - val_loss: 0.6938 - val_acc: 0.6970\n",
      "Epoch 36/50\n",
      "15000/15000 [==============================] - 3s - loss: 0.6049 - acc: 0.7367 - val_loss: 0.7005 - val_acc: 0.6913\n",
      "Epoch 37/50\n",
      "15000/15000 [==============================] - 3s - loss: 0.5991 - acc: 0.7422 - val_loss: 0.6696 - val_acc: 0.7133\n",
      "Epoch 38/50\n",
      "15000/15000 [==============================] - 3s - loss: 0.6082 - acc: 0.7379 - val_loss: 0.6661 - val_acc: 0.7223\n",
      "Epoch 39/50\n",
      "15000/15000 [==============================] - 3s - loss: 0.6076 - acc: 0.7397 - val_loss: 0.6819 - val_acc: 0.7053\n",
      "Epoch 40/50\n",
      "15000/15000 [==============================] - 3s - loss: 0.5976 - acc: 0.7468 - val_loss: 0.6710 - val_acc: 0.7083\n",
      "Epoch 41/50\n",
      "15000/15000 [==============================] - 3s - loss: 0.5936 - acc: 0.7442 - val_loss: 0.6793 - val_acc: 0.7030\n",
      "Epoch 42/50\n",
      "15000/15000 [==============================] - 3s - loss: 0.5961 - acc: 0.7417 - val_loss: 0.6548 - val_acc: 0.7157\n",
      "Epoch 43/50\n",
      "15000/15000 [==============================] - 3s - loss: 0.5850 - acc: 0.7463 - val_loss: 0.6507 - val_acc: 0.7180\n",
      "Epoch 44/50\n",
      "15000/15000 [==============================] - 3s - loss: 0.5869 - acc: 0.7493 - val_loss: 0.6704 - val_acc: 0.7100\n",
      "Epoch 45/50\n",
      "15000/15000 [==============================] - 3s - loss: 0.5831 - acc: 0.7536 - val_loss: 0.6491 - val_acc: 0.7220\n",
      "Epoch 46/50\n",
      "15000/15000 [==============================] - 2s - loss: 0.5821 - acc: 0.7493 - val_loss: 0.6608 - val_acc: 0.7123\n",
      "Epoch 47/50\n",
      "15000/15000 [==============================] - 3s - loss: 0.5726 - acc: 0.7567 - val_loss: 0.7070 - val_acc: 0.6877\n",
      "Epoch 48/50\n",
      "15000/15000 [==============================] - 3s - loss: 0.5833 - acc: 0.7477 - val_loss: 0.6541 - val_acc: 0.7263\n",
      "Epoch 49/50\n",
      "15000/15000 [==============================] - 4s - loss: 0.5630 - acc: 0.7588 - val_loss: 0.6734 - val_acc: 0.7000\n",
      "Epoch 50/50\n",
      "15000/15000 [==============================] - 3s - loss: 0.5679 - acc: 0.7574 - val_loss: 0.6528 - val_acc: 0.7287\n",
      "2720/3000 [==========================>...] - ETA: 0sTest loss: 0.652821616332\n",
      "Test accuracy: 0.728666666826\n"
     ]
    },
    {
     "ename": "NameError",
     "evalue": "name 'plt' is not defined",
     "output_type": "error",
     "traceback": [
      "\u001b[0;31m---------------------------------------------------------------------------\u001b[0m",
      "\u001b[0;31mNameError\u001b[0m                                 Traceback (most recent call last)",
      "\u001b[0;32m<ipython-input-8-b1097844b101>\u001b[0m in \u001b[0;36m<module>\u001b[0;34m()\u001b[0m\n\u001b[1;32m     62\u001b[0m \u001b[0;34m\u001b[0m\u001b[0m\n\u001b[1;32m     63\u001b[0m \u001b[0mepochs\u001b[0m \u001b[0;34m=\u001b[0m \u001b[0mlen\u001b[0m\u001b[0;34m(\u001b[0m\u001b[0mloss\u001b[0m\u001b[0;34m)\u001b[0m\u001b[0;34m\u001b[0m\u001b[0m\n\u001b[0;32m---> 64\u001b[0;31m \u001b[0mplt\u001b[0m\u001b[0;34m.\u001b[0m\u001b[0mplot\u001b[0m\u001b[0;34m(\u001b[0m\u001b[0mrange\u001b[0m\u001b[0;34m(\u001b[0m\u001b[0mepochs\u001b[0m\u001b[0;34m)\u001b[0m\u001b[0;34m,\u001b[0m \u001b[0mloss\u001b[0m\u001b[0;34m,\u001b[0m \u001b[0mmarker\u001b[0m\u001b[0;34m=\u001b[0m\u001b[0;34m'.'\u001b[0m\u001b[0;34m,\u001b[0m \u001b[0mlabel\u001b[0m\u001b[0;34m=\u001b[0m\u001b[0;34m'acc'\u001b[0m\u001b[0;34m)\u001b[0m\u001b[0;34m\u001b[0m\u001b[0m\n\u001b[0m\u001b[1;32m     65\u001b[0m \u001b[0mplt\u001b[0m\u001b[0;34m.\u001b[0m\u001b[0mplot\u001b[0m\u001b[0;34m(\u001b[0m\u001b[0mrange\u001b[0m\u001b[0;34m(\u001b[0m\u001b[0mepochs\u001b[0m\u001b[0;34m)\u001b[0m\u001b[0;34m,\u001b[0m \u001b[0mval_loss\u001b[0m\u001b[0;34m,\u001b[0m \u001b[0mmarker\u001b[0m\u001b[0;34m=\u001b[0m\u001b[0;34m'.'\u001b[0m\u001b[0;34m,\u001b[0m \u001b[0mlabel\u001b[0m\u001b[0;34m=\u001b[0m\u001b[0;34m'val_acc'\u001b[0m\u001b[0;34m)\u001b[0m\u001b[0;34m\u001b[0m\u001b[0m\n\u001b[1;32m     66\u001b[0m \u001b[0mplt\u001b[0m\u001b[0;34m.\u001b[0m\u001b[0mlegend\u001b[0m\u001b[0;34m(\u001b[0m\u001b[0mloc\u001b[0m\u001b[0;34m=\u001b[0m\u001b[0;34m'best'\u001b[0m\u001b[0;34m)\u001b[0m\u001b[0;34m\u001b[0m\u001b[0m\n",
      "\u001b[0;31mNameError\u001b[0m: name 'plt' is not defined"
     ]
    }
   ],
   "source": [
    "# モデル構築\n",
    "model = Sequential()\n",
    "\n",
    "# 最初の隠れ層(入力1024-> 出力512)\n",
    "model.add(Dense(512, activation='relu', input_shape=(1024,)))\n",
    "model.add(Dropout(0.2))\n",
    "\n",
    "# 隠れ層(入力512 -> 出力512)\n",
    "## 隠れ層は追加可能\n",
    "model.add(Dense(512, activation='relu'))\n",
    "model.add(Dropout(0.2))\n",
    "\n",
    "# 出力層(入力512 -> 出力:クラス数)\n",
    "model.add(Dense(num_classes, activation='softmax'))\n",
    "\n",
    "# モデル概要表示\n",
    "model.summary()\n",
    "\n",
    "# モデルのコンパイル\n",
    "model.compile(loss='categorical_crossentropy',\n",
    "#               optimizer=RMSprop(),\n",
    "              optimizer='adam',\n",
    "              metrics=['accuracy'])\n",
    "\n",
    "# フィッティング(学習)\n",
    "history = model.fit(x_train, y_train,\n",
    "                    batch_size=batch_size,\n",
    "                    epochs=epochs,\n",
    "                    verbose=1,\n",
    "                    validation_data=(x_test, y_test))\n",
    "\n",
    "# スコア計算・表示\n",
    "score = model.evaluate(x_test, y_test, verbose=1)\n",
    "print('Test loss:', score[0])\n",
    "print('Test accuracy:', score[1])"
   ]
  },
  {
   "cell_type": "code",
   "execution_count": 32,
   "metadata": {},
   "outputs": [
    {
     "data": {
      "image/png": "[encoded data removed]",
      "text/plain": [
       "<matplotlib.figure.Figure at 0x1184e4d68>"
      ]
     },
     "metadata": {},
     "output_type": "display_data"
    },
    {
     "data": {
      "text/plain": [
       "<matplotlib.figure.Figure at 0x118daf160>"
      ]
     },
     "metadata": {},
     "output_type": "display_data"
    }
   ],
   "source": [
    "import matplotlib.pyplot as plt\n",
    "# plot results\n",
    "loss = history.history['loss']\n",
    "val_loss = history.history['val_loss']\n",
    "\n",
    "acc = history.history['acc']\n",
    "val_acc = history.history['val_acc']\n",
    "\n",
    "plt.figure(figsize=(10,10))\n",
    "plt.subplot(2,1,1)\n",
    "plt.title('Loss')\n",
    "epochs = len(loss)\n",
    "plt.plot(range(epochs), loss, marker='.', label='loss')\n",
    "plt.plot(range(epochs), val_loss, marker='.', label='val_loss')\n",
    "plt.legend(loc='best')\n",
    "plt.grid()\n",
    "plt.xlabel('epoch')\n",
    "plt.ylabel('acc')\n",
    "\n",
    "plt.subplot(2,1,2)\n",
    "plt.title('Accuracy')\n",
    "plt.plot(range(epochs), acc, marker='.', label='acc')\n",
    "plt.plot(range(epochs), val_acc, marker='.', label='val_acc')\n",
    "plt.legend(loc='best')\n",
    "plt.grid()\n",
    "plt.xlabel('epoch')\n",
    "plt.ylabel('acc')\n",
    "plt.show()\n",
    "\n",
    "plt.savefig('rms_cifar3_50epochs.png')"
   ]
  },
  {
   "cell_type": "code",
   "execution_count": 7,
   "metadata": {
    "collapsed": true
   },
   "outputs": [],
   "source": [
    "# 学習モデルの保存\n",
    "model.save(\"trained_data\")"
   ]
  },
  {
   "cell_type": "markdown",
   "metadata": {},
   "source": [
    "# モデルのテスト"
   ]
  },
  {
   "cell_type": "code",
   "execution_count": 27,
   "metadata": {},
   "outputs": [
    {
     "name": "stdout",
     "output_type": "stream",
     "text": [
      "(32, 32)\n"
     ]
    },
    {
     "data": {
      "text/plain": [
       "<matplotlib.image.AxesImage at 0x118b8be10>"
      ]
     },
     "execution_count": 27,
     "metadata": {},
     "output_type": "execute_result"
    },
    {
     "data": {
      "image/png": "[encoded data removed]",
      "text/plain": [
       "<matplotlib.figure.Figure at 0x1185c3710>"
      ]
     },
     "metadata": {},
     "output_type": "display_data"
    }
   ],
   "source": [
    "# 画像読み込み\n",
    "from PIL import Image\n",
    "import matplotlib.pyplot as plt\n",
    "import numpy as np\n",
    "\n",
    "#Jupyterでインライン表示するための宣言\n",
    "%matplotlib inline \n",
    "\n",
    "fig = plt.figure(figsize=(8,8))\n",
    "\n",
    "#画像の読み込み\n",
    "org_img = Image.open(\"./plane_test3.jpg\")\n",
    "\n",
    "#解像度変更\n",
    "gray_img = org_img.resize((32,32))\n",
    "gray_img = gray_img.convert('L')\n",
    "\n",
    "#画像をarrayに変換\n",
    "im_list = np.array(gray_img, 'f')\n",
    "print(im_list.shape)\n",
    "\n",
    "#正規化\n",
    "im_list = im_list/255\n",
    "\n",
    "#画像表示\n",
    "plt.imshow(im_list,cmap=plt.get_cmap('gray'))"
   ]
  },
  {
   "cell_type": "code",
   "execution_count": 28,
   "metadata": {
    "scrolled": true
   },
   "outputs": [
    {
     "name": "stdout",
     "output_type": "stream",
     "text": [
      "(32, 32)\n",
      "[[ 0.71074355  0.02313305  0.26612338]]\n",
      "result: airplane\n"
     ]
    }
   ],
   "source": [
    "# 読み込んだ画像の判別\n",
    "\n",
    "print(im_list.shape)\n",
    "test = im_list.reshape(1,1024)\n",
    "\n",
    "# 判別値の確率\n",
    "print(model.predict(test))\n",
    "\n",
    "#判別結果\n",
    "print(\"result:\",select_label[np.argmax(model.predict(test)[0])])"
   ]
  }
 ],
 "metadata": {
  "kernelspec": {
   "display_name": "Python 3",
   "language": "python",
   "name": "python3"
  },
  "language_info": {
   "codemirror_mode": {
    "name": "ipython",
    "version": 3
   },
   "file_extension": ".py",
   "mimetype": "text/x-python",
   "name": "python",
   "nbconvert_exporter": "python",
   "pygments_lexer": "ipython3",
   "version": "3.6.1"
  }
 },
 "nbformat": 4,
 "nbformat_minor": 2
}
