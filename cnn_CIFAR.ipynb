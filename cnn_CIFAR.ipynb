{
 "cells": [
  {
   "cell_type": "markdown",
   "metadata": {},
   "source": [
    "# CNN(畳み込みニューラルネットワーク)によるCIFAR10 分類"
   ]
  },
  {
   "cell_type": "code",
   "execution_count": 62,
   "metadata": {},
   "outputs": [],
   "source": [
    "import numpy as np\n",
    "import matplotlib.pyplot as plt\n",
    "from keras.models import Sequential\n",
    "from keras.layers import Dense, Dropout, Activation, Flatten\n",
    "from keras.layers import Convolution2D, MaxPooling2D\n",
    "from keras.utils import np_utils\n",
    "from keras.preprocessing.image import ImageDataGenerator"
   ]
  },
  {
   "cell_type": "code",
   "execution_count": 63,
   "metadata": {},
   "outputs": [],
   "source": [
    "from keras.datasets import cifar10\n",
    "\n",
    "(x_train, y_train), (x_test, y_test) = cifar10.load_data()"
   ]
  },
  {
   "cell_type": "code",
   "execution_count": 64,
   "metadata": {
    "scrolled": true
   },
   "outputs": [
    {
     "name": "stdout",
     "output_type": "stream",
     "text": [
      "(50000, 10)\n"
     ]
    }
   ],
   "source": [
    "nb_classes = 10\n",
    "y_train = np_utils.to_categorical(y_train, nb_classes)\n",
    "y_test = np_utils.to_categorical(y_test, nb_classes)\n",
    "print(y_train.shape)\n"
   ]
  },
  {
   "cell_type": "code",
   "execution_count": 65,
   "metadata": {
    "collapsed": true
   },
   "outputs": [],
   "source": [
    "x_train = x_train/255.0\n",
    "x_test = x_test/255.0"
   ]
  },
  {
   "cell_type": "code",
   "execution_count": 66,
   "metadata": {},
   "outputs": [
    {
     "name": "stdout",
     "output_type": "stream",
     "text": [
      "_________________________________________________________________\n",
      "Layer (type)                 Output Shape              Param #   \n",
      "=================================================================\n",
      "conv2d_13 (Conv2D)           (None, 32, 32, 32)        896       \n",
      "_________________________________________________________________\n",
      "activation_17 (Activation)   (None, 32, 32, 32)        0         \n",
      "_________________________________________________________________\n",
      "conv2d_14 (Conv2D)           (None, 30, 30, 32)        9248      \n",
      "_________________________________________________________________\n",
      "activation_18 (Activation)   (None, 30, 30, 32)        0         \n",
      "_________________________________________________________________\n",
      "max_pooling2d_7 (MaxPooling2 (None, 15, 15, 32)        0         \n",
      "_________________________________________________________________\n",
      "dropout_9 (Dropout)          (None, 15, 15, 32)        0         \n",
      "_________________________________________________________________\n",
      "conv2d_15 (Conv2D)           (None, 15, 15, 64)        18496     \n",
      "_________________________________________________________________\n",
      "activation_19 (Activation)   (None, 15, 15, 64)        0         \n",
      "_________________________________________________________________\n",
      "conv2d_16 (Conv2D)           (None, 13, 13, 64)        36928     \n",
      "_________________________________________________________________\n",
      "activation_20 (Activation)   (None, 13, 13, 64)        0         \n",
      "_________________________________________________________________\n",
      "max_pooling2d_8 (MaxPooling2 (None, 6, 6, 64)          0         \n",
      "_________________________________________________________________\n",
      "dropout_10 (Dropout)         (None, 6, 6, 64)          0         \n",
      "_________________________________________________________________\n",
      "conv2d_17 (Conv2D)           (None, 6, 6, 128)         73856     \n",
      "_________________________________________________________________\n",
      "activation_21 (Activation)   (None, 6, 6, 128)         0         \n",
      "_________________________________________________________________\n",
      "conv2d_18 (Conv2D)           (None, 4, 4, 128)         147584    \n",
      "_________________________________________________________________\n",
      "activation_22 (Activation)   (None, 4, 4, 128)         0         \n",
      "_________________________________________________________________\n",
      "max_pooling2d_9 (MaxPooling2 (None, 2, 2, 128)         0         \n",
      "_________________________________________________________________\n",
      "dropout_11 (Dropout)         (None, 2, 2, 128)         0         \n",
      "_________________________________________________________________\n",
      "flatten_3 (Flatten)          (None, 512)               0         \n",
      "_________________________________________________________________\n",
      "dense_5 (Dense)              (None, 512)               262656    \n",
      "_________________________________________________________________\n",
      "activation_23 (Activation)   (None, 512)               0         \n",
      "_________________________________________________________________\n",
      "dropout_12 (Dropout)         (None, 512)               0         \n",
      "_________________________________________________________________\n",
      "dense_6 (Dense)              (None, 10)                5130      \n",
      "_________________________________________________________________\n",
      "activation_24 (Activation)   (None, 10)                0         \n",
      "=================================================================\n",
      "Total params: 554,794\n",
      "Trainable params: 554,794\n",
      "Non-trainable params: 0\n",
      "_________________________________________________________________\n"
     ]
    }
   ],
   "source": [
    "import numpy as np\n",
    "import matplotlib.pyplot as plt\n",
    "\n",
    "from keras.datasets import cifar10\n",
    "from keras.models import Sequential\n",
    "from keras.layers import Dense, Dropout, Activation, Flatten\n",
    "from keras.layers import Conv2D, MaxPooling2D\n",
    "from keras.utils import np_utils\n",
    "from keras.preprocessing.image import ImageDataGenerator\n",
    "\n",
    "nb_classes=10\n",
    "\n",
    "# CNNを構築\n",
    "model = Sequential()\n",
    "\n",
    "# conv 3*3 -> 32 channels\n",
    "model.add(Conv2D(32, (3, 3), padding='same', input_shape=x_train.shape[1:]))\n",
    "model.add(Activation('relu'))\n",
    "model.add(Conv2D(32, (3, 3)))\n",
    "model.add(Activation('relu'))\n",
    "# Max pooling 2*2\n",
    "model.add(MaxPooling2D(pool_size=(2, 2)))\n",
    "model.add(Dropout(0.25))\n",
    "\n",
    "model.add(Conv2D(64, (3, 3), padding='same'))\n",
    "model.add(Activation('relu'))\n",
    "model.add(Conv2D(64, (3, 3)))\n",
    "model.add(Activation('relu'))\n",
    "model.add(MaxPooling2D(pool_size=(2, 2)))\n",
    "model.add(Dropout(0.25))\n",
    "\n",
    "model.add(Conv2D(128, (3, 3), padding='same'))\n",
    "model.add(Activation('relu'))\n",
    "model.add(Conv2D(128, (3, 3)))\n",
    "model.add(Activation('relu'))\n",
    "model.add(MaxPooling2D(pool_size=(2, 2)))\n",
    "model.add(Dropout(0.25))\n",
    "\n",
    "# 全結合 512\n",
    "model.add(Flatten())\n",
    "model.add(Dense(512))\n",
    "model.add(Activation('relu'))\n",
    "model.add(Dropout(0.5))\n",
    "\n",
    "# 全結合 10\n",
    "model.add(Dense(nb_classes))\n",
    "model.add(Activation('softmax'))\n",
    "\n",
    "model.compile(loss='categorical_crossentropy',\n",
    "              optimizer='adam',\n",
    "              metrics=['accuracy'])\n",
    "\n",
    "model.summary()"
   ]
  },
  {
   "cell_type": "markdown",
   "metadata": {},
   "source": [
    "## データオーギュメンテーション"
   ]
  },
  {
   "cell_type": "code",
   "execution_count": 67,
   "metadata": {},
   "outputs": [],
   "source": [
    "train_datagen = ImageDataGenerator(\n",
    "        featurewise_center=False,\n",
    "        samplewise_center=False,\n",
    "        featurewise_std_normalization=False,\n",
    "        samplewise_std_normalization=False,\n",
    "        rotation_range=10,\n",
    "        width_shift_range=0.2,\n",
    "        height_shift_range=0.2,\n",
    "        horizontal_flip=True,\n",
    "        vertical_flip=False,\n",
    "        zoom_range=[.8, 1])\n",
    "#         channel_shift_range=30,\n",
    "#         fill_mode='reflect')\n",
    "\n",
    "train_generator = train_datagen.flow(x_train, y_train, batch_size=100, seed = 13)\n",
    "test_datagen = ImageDataGenerator()\n",
    "test_generator = test_datagen.flow(x_test, y_test, batch_size=100, seed = 13)"
   ]
  },
  {
   "cell_type": "code",
   "execution_count": null,
   "metadata": {},
   "outputs": [
    {
     "name": "stdout",
     "output_type": "stream",
     "text": [
      "Epoch 1/10\n",
      "500/500 [==============================] - 465s - loss: 1.8921 - acc: 0.2716 - val_loss: 1.5000 - val_acc: 0.4483\n",
      "Epoch 2/10\n",
      "500/500 [==============================] - 465s - loss: 1.5615 - acc: 0.4206 - val_loss: 1.3030 - val_acc: 0.5377\n",
      "Epoch 3/10\n",
      "500/500 [==============================] - 471s - loss: 1.3855 - acc: 0.4953 - val_loss: 1.0972 - val_acc: 0.5984\n",
      "Epoch 4/10\n",
      "500/500 [==============================] - 468s - loss: 1.2800 - acc: 0.5402 - val_loss: 0.9986 - val_acc: 0.6390\n",
      "Epoch 5/10\n",
      "500/500 [==============================] - 457s - loss: 1.2042 - acc: 0.5692 - val_loss: 0.9754 - val_acc: 0.6501\n",
      "Epoch 6/10\n",
      "500/500 [==============================] - 458s - loss: 1.1485 - acc: 0.5917 - val_loss: 0.9083 - val_acc: 0.6765\n",
      "Epoch 7/10\n",
      "500/500 [==============================] - 458s - loss: 1.1060 - acc: 0.6099 - val_loss: 0.9456 - val_acc: 0.6690\n",
      "Epoch 8/10\n",
      "500/500 [==============================] - 458s - loss: 1.0712 - acc: 0.6217 - val_loss: 0.8274 - val_acc: 0.7092\n",
      "Epoch 9/10\n",
      "500/500 [==============================] - 459s - loss: 1.0518 - acc: 0.6290 - val_loss: 0.8082 - val_acc: 0.7102\n",
      "Epoch 10/10\n",
      "499/500 [============================>.] - ETA: 0s - loss: 1.0191 - acc: 0.6421"
     ]
    }
   ],
   "source": [
    "# augmentation 用\n",
    "batch_size = 1000\n",
    "nb_epoch = 50\n",
    "history = model.fit_generator(train_generator,\n",
    "                    steps_per_epoch=500,\n",
    "                    epochs=10,\n",
    "                    validation_data=test_generator,\n",
    "                    validation_steps=800,\n",
    "                    verbose=1)"
   ]
  },
  {
   "cell_type": "code",
   "execution_count": null,
   "metadata": {},
   "outputs": [
    {
     "name": "stdout",
     "output_type": "stream",
     "text": [
      "Train on 50000 samples, validate on 10000 samples\n",
      "Epoch 1/50\n",
      "50000/50000 [==============================] - 247s - loss: 2.1499 - acc: 0.1767 - val_loss: 1.9561 - val_acc: 0.2589\n",
      "Epoch 2/50\n",
      "50000/50000 [==============================] - 242s - loss: 1.8436 - acc: 0.3011 - val_loss: 1.7407 - val_acc: 0.3735\n",
      "Epoch 3/50\n",
      "50000/50000 [==============================] - 242s - loss: 1.6359 - acc: 0.3953 - val_loss: 1.4667 - val_acc: 0.4628\n",
      "Epoch 4/50\n",
      "50000/50000 [==============================] - 242s - loss: 1.4599 - acc: 0.4617 - val_loss: 1.3290 - val_acc: 0.5170\n",
      "Epoch 5/50\n",
      "50000/50000 [==============================] - 242s - loss: 1.3622 - acc: 0.5013 - val_loss: 1.2646 - val_acc: 0.5410\n",
      "Epoch 6/50\n",
      "50000/50000 [==============================] - 242s - loss: 1.2473 - acc: 0.5475 - val_loss: 1.1573 - val_acc: 0.5846\n",
      "Epoch 7/50\n",
      "50000/50000 [==============================] - 242s - loss: 1.1787 - acc: 0.5757 - val_loss: 1.0544 - val_acc: 0.6221\n",
      "Epoch 8/50\n",
      "50000/50000 [==============================] - 244s - loss: 1.1169 - acc: 0.5989 - val_loss: 1.0452 - val_acc: 0.6250\n",
      "Epoch 9/50\n",
      "50000/50000 [==============================] - 247s - loss: 1.0515 - acc: 0.6274 - val_loss: 0.9888 - val_acc: 0.6466\n",
      "Epoch 10/50\n",
      "26000/50000 [==============>...............] - ETA: 112s - loss: 1.0211 - acc: 0.6367"
     ]
    }
   ],
   "source": [
    "batch_size = 1000\n",
    "nb_epoch = 50\n",
    "history = model.fit(X_train, Y_train,\n",
    "                            batch_size=batch_size,\n",
    "                            epochs=nb_epoch,\n",
    "                            verbose=1,\n",
    "                            validation_data=(X_test, Y_test),\n",
    "                            shuffle=True)"
   ]
  },
  {
   "cell_type": "code",
   "execution_count": 40,
   "metadata": {},
   "outputs": [
    {
     "name": "stdout",
     "output_type": "stream",
     "text": [
      "10000/10000 [==============================] - 13s    \n",
      "Test loss: 0.558366044044\n",
      "Test acc: 0.817\n"
     ]
    }
   ],
   "source": [
    "loss, acc = model.evaluate(X_test, Y_test, verbose=1)\n",
    "print('Test loss:', loss)\n",
    "print('Test acc:', acc)"
   ]
  },
  {
   "cell_type": "code",
   "execution_count": 41,
   "metadata": {},
   "outputs": [
    {
     "data": {
      "image/png": "[encoded data removed]",
      "text/plain": [
       "<matplotlib.figure.Figure at 0x7efde6ede9e8>"
      ]
     },
     "metadata": {},
     "output_type": "display_data"
    }
   ],
   "source": [
    "# 学習の様子をプロット\n",
    "loss = history.history['loss']\n",
    "val_loss = history.history['val_loss']\n",
    "\n",
    "acc = history.history['acc']\n",
    "val_acc = history.history['val_acc']\n",
    "\n",
    "plt.figure(figsize=(10,10))\n",
    "plt.subplot(2,1,1)\n",
    "plt.title('Loss')\n",
    "epochs = len(loss)\n",
    "plt.plot(range(epochs), loss, marker='.', label='loss')\n",
    "plt.plot(range(epochs), val_loss, marker='.', label='val_loss')\n",
    "plt.legend(loc='best')\n",
    "plt.grid()\n",
    "plt.xlabel('epoch')\n",
    "plt.ylabel('acc')\n",
    "\n",
    "plt.subplot(2,1,2)\n",
    "plt.title('Accuracy')\n",
    "plt.plot(range(epochs), acc, marker='.', label='acc')\n",
    "plt.plot(range(epochs), val_acc, marker='.', label='val_acc')\n",
    "plt.legend(loc='best')\n",
    "plt.grid()\n",
    "plt.xlabel('epoch')\n",
    "plt.ylabel('acc')\n",
    "plt.show()\n",
    "\n",
    "# plt.savefig('rms_cifar3_50epochs.png')"
   ]
  },
  {
   "cell_type": "code",
   "execution_count": 33,
   "metadata": {},
   "outputs": [
    {
     "name": "stdout",
     "output_type": "stream",
     "text": [
      "(1, 32, 32, 3)\n",
      "[[  8.93947458e-08   9.99864221e-01   1.89752527e-07   1.39229428e-08\n",
      "    7.42625673e-07   4.44137394e-09   7.13554618e-05   3.07426490e-07\n",
      "    2.15284626e-06   6.09133094e-05]] \n",
      " automobile\n"
     ]
    },
    {
     "data": {
      "image/png": "[encoded data removed]",
      "text/plain": [
       "<matplotlib.figure.Figure at 0x7efd85f52ba8>"
      ]
     },
     "metadata": {},
     "output_type": "display_data"
    }
   ],
   "source": [
    "from PIL import Image\n",
    "import matplotlib.pyplot as plt\n",
    "import numpy as np\n",
    "\n",
    "#Jupyterでインライン表示するための宣言\n",
    "%matplotlib inline \n",
    "\n",
    "#画像の読み込み\n",
    "test = Image.open(\"./car1.jpg\")\n",
    "\n",
    "\n",
    "# gray_img = im.convert('L')\n",
    "test = test.resize((32,32))\n",
    "plt.imshow(test)\n",
    "\n",
    "# #画像をarrayに変換\n",
    "test_array = np.array(test, 'f')\n",
    "test_array /= 255.\n",
    "test_array = test_array[np.newaxis]\n",
    "print(test_array.shape)\n",
    "\n",
    "# im_list = 1 - im_list/256\n",
    "\n",
    "res = np.argmax(model.predict(test_array)[0])\n",
    "# l_dict = {e:i.decode('utf-8') for e,i in enumerate(label_names)}\n",
    "\n",
    "print(model.predict(test_array),'\\n',select_labels[res])"
   ]
  }
 ],
 "metadata": {
  "kernelspec": {
   "display_name": "Python 3",
   "language": "python",
   "name": "python3"
  },
  "language_info": {
   "codemirror_mode": {
    "name": "ipython",
    "version": 3
   },
   "file_extension": ".py",
   "mimetype": "text/x-python",
   "name": "python",
   "nbconvert_exporter": "python",
   "pygments_lexer": "ipython3",
   "version": "3.6.1"
  }
 },
 "nbformat": 4,
 "nbformat_minor": 2
}
