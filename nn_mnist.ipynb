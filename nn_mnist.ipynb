{
 "cells": [
  {
   "cell_type": "markdown",
   "metadata": {},
   "source": [
    "# Kerasによるニューラルネット実装例(MNIST)"
   ]
  },
  {
   "cell_type": "code",
   "execution_count": 1,
   "metadata": {},
   "outputs": [
    {
     "name": "stderr",
     "output_type": "stream",
     "text": [
      "Using TensorFlow backend.\n"
     ]
    }
   ],
   "source": [
    "import keras\n",
    "from keras.datasets import mnist\n",
    "from keras.models import Sequential\n",
    "from keras.layers import Dense, Dropout\n",
    "from keras.optimizers import RMSprop\n",
    "import h5py"
   ]
  },
  {
   "cell_type": "code",
   "execution_count": 11,
   "metadata": {
    "collapsed": true
   },
   "outputs": [],
   "source": [
    "# 自分で設定するパラメータ\n",
    "\n",
    "# バッチサイズ\n",
    "batch_size = 1000\n",
    "\n",
    "# エポック数\n",
    "epochs = 5"
   ]
  },
  {
   "cell_type": "code",
   "execution_count": 3,
   "metadata": {},
   "outputs": [
    {
     "name": "stdout",
     "output_type": "stream",
     "text": [
      "60000 train samples\n",
      "10000 test samples\n"
     ]
    }
   ],
   "source": [
    "# データ抽出\n",
    "(x_train, y_train), (x_test, y_test) = mnist.load_data()\n",
    "num_classes = 10\n",
    "x_train = x_train.reshape(60000, 784)\n",
    "x_test = x_test.reshape(10000, 784)\n",
    "x_train = x_train.astype('float32')\n",
    "x_test = x_test.astype('float32')\n",
    "x_train /= 255\n",
    "x_test /= 255\n",
    "print(x_train.shape[0], 'train samples')\n",
    "print(x_test.shape[0], 'test samples')\n",
    "\n",
    "# one-hot-label に変換\n",
    "y_train = keras.utils.to_categorical(y_train, num_classes)\n",
    "y_test = keras.utils.to_categorical(y_test, num_classes)"
   ]
  },
  {
   "cell_type": "code",
   "execution_count": 14,
   "metadata": {
    "scrolled": false
   },
   "outputs": [
    {
     "name": "stdout",
     "output_type": "stream",
     "text": [
      "_________________________________________________________________\n",
      "Layer (type)                 Output Shape              Param #   \n",
      "=================================================================\n",
      "dense_7 (Dense)              (None, 512)               401920    \n",
      "_________________________________________________________________\n",
      "dropout_5 (Dropout)          (None, 512)               0         \n",
      "_________________________________________________________________\n",
      "dense_8 (Dense)              (None, 30)                15390     \n",
      "_________________________________________________________________\n",
      "dropout_6 (Dropout)          (None, 30)                0         \n",
      "_________________________________________________________________\n",
      "dense_9 (Dense)              (None, 10)                310       \n",
      "=================================================================\n",
      "Total params: 417,620\n",
      "Trainable params: 417,620\n",
      "Non-trainable params: 0\n",
      "_________________________________________________________________\n",
      "Train on 60000 samples, validate on 10000 samples\n",
      "Epoch 1/5\n",
      "60000/60000 [==============================] - 5s - loss: 0.8264 - acc: 0.7475 - val_loss: 0.2584 - val_acc: 0.9280\n",
      "Epoch 2/5\n",
      "60000/60000 [==============================] - 4s - loss: 0.3084 - acc: 0.9120 - val_loss: 0.1791 - val_acc: 0.9477\n",
      "Epoch 3/5\n",
      "60000/60000 [==============================] - 4s - loss: 0.2271 - acc: 0.9347 - val_loss: 0.1396 - val_acc: 0.9596\n",
      "Epoch 4/5\n",
      "60000/60000 [==============================] - 4s - loss: 0.1790 - acc: 0.9494 - val_loss: 0.1159 - val_acc: 0.9643\n",
      "Epoch 5/5\n",
      "60000/60000 [==============================] - 4s - loss: 0.1528 - acc: 0.9567 - val_loss: 0.1029 - val_acc: 0.9690\n",
      " 9440/10000 [===========================>..] - ETA: 0sTest loss: 0.102933581423\n",
      "Test accuracy: 0.969\n"
     ]
    }
   ],
   "source": [
    "# モデルの構築\n",
    "model = Sequential()\n",
    "\n",
    "# 最初の隠れ層(入力784 -> 出力100)\n",
    "model.add(Dense(512, activation='relu', input_shape=(784,)))\n",
    "model.add(Dropout(0.2))\n",
    "\n",
    "# 2つ目の隠れ層(入力100 -> 出力5)\n",
    "## 隠れ層は追加可能\n",
    "model.add(Dense(30, activation='relu'))\n",
    "model.add(Dropout(0.2))\n",
    "\n",
    "\n",
    "# 出力層(入力5 -> 出力10)\n",
    "model.add(Dense(10, activation='softmax'))\n",
    "\n",
    "# モデル概要表示\n",
    "model.summary()\n",
    "\n",
    "# モデルのコンパイル\n",
    "model.compile(loss='categorical_crossentropy',\n",
    "#               optimizer=RMSprop(),\n",
    "              optimizer='adam',\n",
    "              metrics=['accuracy'])\n",
    "\n",
    "# フィッティング(学習)\n",
    "history = model.fit(x_train, y_train,\n",
    "                    batch_size=batch_size,\n",
    "                    epochs=epochs,\n",
    "                    verbose=1,\n",
    "                    validation_data=(x_test, y_test))\n",
    "\n",
    "# スコアの計算・表示\n",
    "score = model.evaluate(x_test, y_test, verbose=1)\n",
    "print('Test loss:', score[0])\n",
    "print('Test accuracy:', score[1])"
   ]
  },
  {
   "cell_type": "code",
   "execution_count": 5,
   "metadata": {},
   "outputs": [
    {
     "name": "stdout",
     "output_type": "stream",
     "text": [
      "<module 'h5py' from '/Users/kazuki/.pyenv/versions/3.6.1/lib/python3.6/site-packages/h5py/__init__.py'>\n"
     ]
    }
   ],
   "source": [
    "import h5py\n",
    "print(h5py)\n",
    "# 学習モデルの保存\n",
    "model.save(\"mnist_data.h5\")"
   ]
  },
  {
   "cell_type": "markdown",
   "metadata": {},
   "source": [
    "# モデルのテスト"
   ]
  },
  {
   "cell_type": "code",
   "execution_count": 22,
   "metadata": {
    "collapsed": true
   },
   "outputs": [],
   "source": [
    "# 画像の読み込み\n",
    "from PIL import Image\n",
    "import matplotlib.pyplot as plt\n",
    "import numpy as np\n",
    "\n",
    "#Jupyterでインライン表示するための宣言\n",
    "%matplotlib inline \n",
    "\n",
    "#画像の読み込み\n",
    "im = Image.open(\"./tegaki3.jpg\")"
   ]
  },
  {
   "cell_type": "code",
   "execution_count": 27,
   "metadata": {
    "collapsed": true,
    "scrolled": false
   },
   "outputs": [],
   "source": [
    "# 画像を白黒に変換\n",
    "gray_img = im.convert('L')\n",
    "\n",
    "# 画像の解像度を変換\n",
    "gray_img = gray_img.resize((28,28))\n",
    "\n",
    "#画像をarrayに変換\n",
    "im_list = np.array(gray_img, 'f')"
   ]
  },
  {
   "cell_type": "markdown",
   "metadata": {},
   "source": [
    "### 入力画像によって変更"
   ]
  },
  {
   "cell_type": "code",
   "execution_count": 28,
   "metadata": {
    "collapsed": true
   },
   "outputs": [],
   "source": [
    "##白地に黒文字の場合は実行\n",
    "##白黒反転をし，正規化\n",
    "im_list = 1 - im_list/255.\n",
    "\n",
    "##黒地に白文字の場合は実行\n",
    "##正規化\n",
    "#im_list = im_list/255."
   ]
  },
  {
   "cell_type": "code",
   "execution_count": 29,
   "metadata": {},
   "outputs": [
    {
     "data": {
      "text/plain": [
       "<matplotlib.image.AxesImage at 0x12dabd940>"
      ]
     },
     "execution_count": 29,
     "metadata": {},
     "output_type": "execute_result"
    },
    {
     "data": {
      "image/png": "[encoded data removed]",
      "text/plain": [
       "<matplotlib.figure.Figure at 0x12da5b160>"
      ]
     },
     "metadata": {},
     "output_type": "display_data"
    }
   ],
   "source": [
    "#入力画像の表示\n",
    "plt.imshow(im_list,cmap=plt.get_cmap('gray'))"
   ]
  },
  {
   "cell_type": "code",
   "execution_count": 19,
   "metadata": {
    "scrolled": false
   },
   "outputs": [
    {
     "name": "stdout",
     "output_type": "stream",
     "text": [
      "[[  1.03596256e-04   1.76825677e-04   4.49180342e-02   9.37678754e-01\n",
      "    5.80999586e-06   1.23394206e-02   1.12325978e-03   1.84935494e-03\n",
      "    1.69964612e-03   1.05262683e-04]]\n",
      "\n",
      "\n",
      "Result: 3\n"
     ]
    }
   ],
   "source": [
    "# 保存したモデルを読み込む場合は実行\n",
    "# model = keras.models.load_model('./mnist_data.h5')\n",
    "\n",
    "# 画像判別\n",
    "test = im_list.reshape(1,784)\n",
    "print(model.predict(test))\n",
    "print('\\n')\n",
    "print('Result:',np.argmax(model.predict(test)[0]))"
   ]
  },
  {
   "cell_type": "code",
   "execution_count": null,
   "metadata": {
    "collapsed": true
   },
   "outputs": [],
   "source": []
  }
 ],
 "metadata": {
  "kernelspec": {
   "display_name": "Python 3",
   "language": "python",
   "name": "python3"
  },
  "language_info": {
   "codemirror_mode": {
    "name": "ipython",
    "version": 3
   },
   "file_extension": ".py",
   "mimetype": "text/x-python",
   "name": "python",
   "nbconvert_exporter": "python",
   "pygments_lexer": "ipython3",
   "version": "3.6.1"
  }
 },
 "nbformat": 4,
 "nbformat_minor": 2
}
